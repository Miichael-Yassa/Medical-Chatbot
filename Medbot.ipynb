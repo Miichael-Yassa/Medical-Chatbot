{
  "cells": [
    {
      "cell_type": "markdown",
      "source": [
        "# 🧠 Biomedical QA with BioBERT + MedQuAD  \n",
        "**By Michael Yassa**\n",
        "\n",
        "This project builds a **medical question answering (QA) system** using:\n",
        "- **BioBERT**, a transformer model pre-trained on biomedical text\n",
        "- **MedQuAD**, a real-world medical dataset of over 47,000 QA pairs from trusted sources like NIH and MedlinePlus\n",
        "- **FAISS**, a fast similarity search library for scalable retrieval\n",
        "\n",
        "It enables users to ask health-related questions and retrieve relevant, expert-verified answers in real time.\n",
        "\n",
        "---\n",
        "\n",
        "## 🎯 Objectives\n",
        "\n",
        "- Load and parse the MedQuAD biomedical dataset\n",
        "- Use **Sentence-BERT** to embed questions semantically\n",
        "- Build a **FAISS similarity index** for fast retrieval\n",
        "- Integrate with **BioBERT QA model** for advanced medical understanding (optional)\n",
        "- Provide a simple interface to ask medical questions\n",
        "\n",
        "---\n",
        "\n",
        "## 📦 Dataset: MedQuAD\n",
        "\n",
        "MedQuAD (Medical Question Answering Dataset) contains XML files of Q&A pairs covering:\n",
        "- Diseases, Symptoms, Treatments\n",
        "- Genetics, Diagnosis, Prognosis\n",
        "- Drugs and Medical Tests\n",
        "\n",
        "It is extracted from:\n",
        "- MedlinePlus\n",
        "- NIH Genetic Home Reference\n",
        "- National Institute of Neurological Disorders\n",
        "- ...and more\n",
        "\n",
        "Total QA pairs extracted: ✅ **~47,000+**\n",
        "\n",
        "---\n",
        "\n",
        "## 🔍 Approach Overview\n",
        "\n",
        "| Step | Description |\n",
        "|------|-------------|\n",
        "| 1️⃣   | Load and parse Q&A XML files from MedQuAD |\n",
        "| 2️⃣   | Store clean QA pairs into a JSON file |\n",
        "| 3️⃣   | Encode the **questions** using `sentence-transformers` |\n",
        "| 4️⃣   | Build a **FAISS index** for fast similarity-based search |\n",
        "| 5️⃣   | Retrieve the most relevant Q&A pairs using user queries |\n",
        "\n",
        "---\n",
        "\n",
        "## 🛠 Tools Used\n",
        "\n",
        "- 🤖 **Transformers**: BioBERT + AutoTokenizer for QA\n",
        "- 💬 **Sentence-BERT**: For semantic question embeddings\n",
        "- ⚡ **FAISS**: High-speed nearest-neighbor search\n",
        "- 🧪 **MedQuAD**: Biomedical QA dataset\n",
        "- 🐍 **Python, JSON, XML**: Data preprocessing and parsing\n",
        "\n",
        "---\n",
        "\n",
        "## 🚀 Example\n",
        "\n",
        "```python\n",
        "ask_bot(\"What are the symptoms of diabetes?\")\n"
      ],
      "metadata": {
        "id": "5jTd4O9iYq8t"
      }
    },
    {
      "cell_type": "markdown",
      "source": [
        "# 📦 Step 1: Install Required Packages\n",
        "# Install required NLP, QA, and similarity search libraries"
      ],
      "metadata": {
        "id": "D-2kDivbXGym"
      }
    },
    {
      "cell_type": "code",
      "source": [
        "!pip -q install transformers torch sentencepiece faiss-cpu sentence-transformers\n"
      ],
      "metadata": {
        "id": "nVnEH_27Ud2P"
      },
      "execution_count": 10,
      "outputs": []
    },
    {
      "cell_type": "markdown",
      "source": [
        "# ✅ Step 2: Load BioBERT QA Model\n",
        "# Import QA model utilities from Hugging Face"
      ],
      "metadata": {
        "id": "hEEqKdzuXOkU"
      }
    },
    {
      "cell_type": "code",
      "source": [
        "from transformers import AutoTokenizer, AutoModelForQuestionAnswering\n",
        "import torch\n",
        "\n",
        "# Load a BioBERT model fine-tuned for QA\n",
        "tokenizer = AutoTokenizer.from_pretrained(\"ktrapeznikov/biobert_v1.1_pubmed_squad_v2\")\n",
        "model = AutoModelForQuestionAnswering.from_pretrained(\"ktrapeznikov/biobert_v1.1_pubmed_squad_v2\")\n",
        "\n"
      ],
      "metadata": {
        "colab": {
          "base_uri": "https://localhost:8080/"
        },
        "id": "ghVwwWb2Ugq4",
        "outputId": "d251c59e-acde-4a88-f946-16b1c701ca28"
      },
      "execution_count": 4,
      "outputs": [
        {
          "output_type": "stream",
          "name": "stderr",
          "text": [
            "Some weights of the model checkpoint at ktrapeznikov/biobert_v1.1_pubmed_squad_v2 were not used when initializing BertForQuestionAnswering: ['bert.pooler.dense.bias', 'bert.pooler.dense.weight']\n",
            "- This IS expected if you are initializing BertForQuestionAnswering from the checkpoint of a model trained on another task or with another architecture (e.g. initializing a BertForSequenceClassification model from a BertForPreTraining model).\n",
            "- This IS NOT expected if you are initializing BertForQuestionAnswering from the checkpoint of a model that you expect to be exactly identical (initializing a BertForSequenceClassification model from a BertForSequenceClassification model).\n"
          ]
        }
      ]
    },
    {
      "cell_type": "markdown",
      "source": [
        "# 📁 Step 3: Mount Google Drive and Unzip MedQuAD\n"
      ],
      "metadata": {
        "id": "gYkovlHGXYn9"
      }
    },
    {
      "cell_type": "code",
      "source": [
        "from google.colab import drive\n",
        "drive.mount('/content/drive')\n",
        "## Quiet unzip (use -q to hide individual file names)\n",
        "!unzip -q \"/content/drive/MyDrive/MedBot/MedQuAD.zip\" -d \"/content/MedQuAD\""
      ],
      "metadata": {
        "colab": {
          "base_uri": "https://localhost:8080/"
        },
        "id": "4SRvS3MiQc9c",
        "outputId": "e0bbe993-4a23-4587-95b7-5066ecdbe496"
      },
      "execution_count": 5,
      "outputs": [
        {
          "output_type": "stream",
          "name": "stdout",
          "text": [
            "Drive already mounted at /content/drive; to attempt to forcibly remount, call drive.mount(\"/content/drive\", force_remount=True).\n",
            "replace /content/MedQuAD/MedQuAD/.git/config? [y]es, [n]o, [A]ll, [N]one, [r]ename: n\n",
            "replace /content/MedQuAD/MedQuAD/.git/description? [y]es, [n]o, [A]ll, [N]one, [r]ename: N\n"
          ]
        }
      ]
    },
    {
      "cell_type": "markdown",
      "source": [
        "# 📥 Step 4: Parse XML files and Extract Q&A Pairs\n"
      ],
      "metadata": {
        "id": "cZ-uBPXsXgja"
      }
    },
    {
      "cell_type": "code",
      "source": [
        "import os\n",
        "import xml.etree.ElementTree as ET\n",
        "\n",
        "base_path = \"/content/MedQuAD/MedQuAD\"\n",
        "qa_pairs = []\n",
        "\n",
        "for root_dir, _, files in os.walk(base_path):\n",
        "    for file in files:\n",
        "        if file.endswith(\".xml\"):\n",
        "            file_path = os.path.join(root_dir, file)\n",
        "            try:\n",
        "                tree = ET.parse(file_path)\n",
        "                root = tree.getroot()\n",
        "                qa_section = root.find(\"QAPairs\")\n",
        "                if qa_section is not None:\n",
        "                    for pair in qa_section.findall(\"QAPair\"):\n",
        "                        question = pair.findtext(\"Question\")\n",
        "                        answer = pair.findtext(\"Answer\")\n",
        "                        if question and answer:\n",
        "                            qa_pairs.append({\n",
        "                                \"question\": question.strip(),\n",
        "                                \"answer\": answer.strip()\n",
        "                            })\n",
        "            except Exception as e:\n",
        "                print(f\"⚠️ Skipping {file}: {e}\")\n",
        "\n",
        "print(\"✅ Total Q&A pairs loaded:\", len(qa_pairs))\n"
      ],
      "metadata": {
        "colab": {
          "base_uri": "https://localhost:8080/"
        },
        "id": "qVmeM3imUtJq",
        "outputId": "8c316da6-ad6d-485f-e27e-397179864295"
      },
      "execution_count": 6,
      "outputs": [
        {
          "output_type": "stream",
          "name": "stdout",
          "text": [
            "✅ Total Q&A pairs loaded: 16407\n"
          ]
        }
      ]
    },
    {
      "cell_type": "markdown",
      "source": [
        "# 💾 Step 5: Save extracted QA pairs to a JSON file\n"
      ],
      "metadata": {
        "id": "-tejsXAqXmCp"
      }
    },
    {
      "cell_type": "code",
      "source": [
        "import json\n",
        "with open(\"medquad_qa.json\", \"w\") as f:\n",
        "    json.dump(qa_pairs, f, indent=2)\n",
        "print(\"✅ Saved to medquad_qa.json\")\n"
      ],
      "metadata": {
        "colab": {
          "base_uri": "https://localhost:8080/"
        },
        "id": "Q1RMhjqBVK5O",
        "outputId": "a5b97ba7-50fe-4ac5-8660-de25e73174b5"
      },
      "execution_count": 7,
      "outputs": [
        {
          "output_type": "stream",
          "name": "stdout",
          "text": [
            "✅ Saved to medquad_qa.json\n"
          ]
        }
      ]
    },
    {
      "cell_type": "markdown",
      "source": [
        "# 🔍 Step 6: Build a FAISS-based Semantic Search Index\n"
      ],
      "metadata": {
        "id": "byrfP6tQYNcy"
      }
    },
    {
      "cell_type": "code",
      "execution_count": 8,
      "metadata": {
        "id": "7QM1h5c8dMc9",
        "colab": {
          "base_uri": "https://localhost:8080/",
          "height": 104,
          "referenced_widgets": [
            "62a7b38e21a44d9c9eded8f525499439",
            "4f255ac39ad1431bba8c3daa0be4ff5c",
            "8c4d4dc04acf4dba904c9c90eea31f65",
            "225779b195a047f4846b9676a6629d6c",
            "1d5c7100cc41497299f9e804bce277b0",
            "fdbb40b550a74a23866225bca06c7f7e",
            "42c7efa82c444508b9b9a3171119ad05",
            "e8e1540fba9849c2ac16374345104911",
            "c82de787721c44bab0deed3db3d75f0c",
            "df418a39374946cbb217809c34b2c7d3",
            "64410e5ba3a2400ea6677abdbf833aca"
          ]
        },
        "outputId": "cbb82fe5-d815-473d-de1f-4b861439392a"
      },
      "outputs": [
        {
          "output_type": "display_data",
          "data": {
            "text/plain": [
              "Batches:   0%|          | 0/513 [00:00<?, ?it/s]"
            ],
            "application/vnd.jupyter.widget-view+json": {
              "version_major": 2,
              "version_minor": 0,
              "model_id": "62a7b38e21a44d9c9eded8f525499439"
            }
          },
          "metadata": {}
        },
        {
          "output_type": "stream",
          "name": "stderr",
          "text": [
            "/usr/local/lib/python3.11/dist-packages/torch/nn/modules/module.py:1750: FutureWarning: `encoder_attention_mask` is deprecated and will be removed in version 4.55.0 for `BertSdpaSelfAttention.forward`.\n",
            "  return forward_call(*args, **kwargs)\n"
          ]
        },
        {
          "output_type": "stream",
          "name": "stdout",
          "text": [
            "✅ FAISS index built with 16407 questions.\n"
          ]
        }
      ],
      "source": [
        "from sentence_transformers import SentenceTransformer\n",
        "import faiss\n",
        "import numpy as np\n",
        "\n",
        "# Load QA pairs\n",
        "with open(\"medquad_qa.json\", \"r\") as f:\n",
        "    qa_pairs = json.load(f)\n",
        "\n",
        "# Embed questions\n",
        "model = SentenceTransformer('sentence-transformers/all-MiniLM-L6-v2')\n",
        "questions = [qa[\"question\"] for qa in qa_pairs]\n",
        "embeddings = model.encode(questions, show_progress_bar=True)\n",
        "\n",
        "# Build FAISS index\n",
        "dimension = embeddings[0].shape[0]\n",
        "index = faiss.IndexFlatL2(dimension)\n",
        "index.add(np.array(embeddings))\n",
        "print(\"✅ FAISS index built with\", len(questions), \"questions.\")\n"
      ]
    },
    {
      "cell_type": "markdown",
      "source": [
        "# 🤖 Step 7: Ask the Bot"
      ],
      "metadata": {
        "id": "xa9hUz0sYTcz"
      }
    },
    {
      "cell_type": "code",
      "source": [
        "def ask_bot(question, top_k=3):\n",
        "    query_vec = model.encode([question])\n",
        "    distances, indices = index.search(np.array(query_vec), top_k)\n",
        "\n",
        "    print(f\"\\n💬 You asked: {question}\")\n",
        "    for i, idx in enumerate(indices[0]):\n",
        "        print(f\"\\n🔹 Top {i+1} Answer:\")\n",
        "        print(\"Q:\", qa_pairs[idx][\"question\"])\n",
        "        print(\"A:\", qa_pairs[idx][\"answer\"][:800])  # Limit long answers\n",
        "\n",
        "# 🧪 Example Usage\n",
        "ask_bot(\"What are the symptoms of diabetes?\")"
      ],
      "metadata": {
        "colab": {
          "base_uri": "https://localhost:8080/"
        },
        "id": "8FkcEGOfVR1m",
        "outputId": "c04a76a0-01c5-470e-f706-9f102d1981da"
      },
      "execution_count": 9,
      "outputs": [
        {
          "output_type": "stream",
          "name": "stdout",
          "text": [
            "\n",
            "💬 You asked: What are the symptoms of diabetes?\n",
            "\n",
            "🔹 Top 1 Answer:\n",
            "Q: What are the symptoms of Diabetes ?\n",
            "A: Diabetes is often called a \"silent\" disease because it can cause serious complications even before you have symptoms. Symptoms can also be so mild that you dont notice them. An estimated 8 million people in the United States have type 2 diabetes and dont know it, according to 2012 estimates by the Centers for Disease Control and Prevention (CDC). Common Signs Some common symptoms of diabetes are: - being very thirsty  - frequent urination  - feeling very hungry or tired  - losing weight without trying  - having sores that heal slowly  - having dry, itchy skin  - loss of feeling or tingling in the feet  - having blurry eyesight. being very thirsty frequent urination feeling very hungry or tired losing weight without trying having sores that heal slowly having dry, itchy skin loss of feeling\n",
            "\n",
            "🔹 Top 2 Answer:\n",
            "Q: What are the symptoms of Diabetes ?\n",
            "A: Many people with diabetes experience one or more symptoms, including extreme thirst or hunger, a frequent need to urinate and/or fatigue. Some lose weight without trying. Additional signs include sores that heal slowly, dry, itchy skin, loss of feeling or tingling in the feet and blurry eyesight. Some people with diabetes, however, have no symptoms at all.\n",
            "\n",
            "🔹 Top 3 Answer:\n",
            "Q: What are the symptoms of Diabetes mellitus type 1 ?\n",
            "A: What are the signs and symptoms of Diabetes mellitus type 1? The Human Phenotype Ontology provides the following list of signs and symptoms for Diabetes mellitus type 1. If the information is available, the table below includes how often the symptom is seen in people with this condition. You can use the MedlinePlus Medical Dictionary to look up the definitions for these medical terms. Signs and Symptoms Approximate number of patients (when available) Abnormality of the immune system - Diabetes mellitus - Heterogeneous - Hyperglycemia - Ketoacidosis - Polydipsia - Polyphagia - Polyuria - The Human Phenotype Ontology (HPO) has collected information on how often a sign or symptom occurs in a condition. Much of this information comes from Orphanet, a European rare disease database. The frequen\n"
          ]
        }
      ]
    }
  ],
  "metadata": {
    "colab": {
      "provenance": []
    },
    "kernelspec": {
      "display_name": "Python 3",
      "name": "python3"
    },
    "language_info": {
      "name": "python"
    },
    "widgets": {
      "application/vnd.jupyter.widget-state+json": {
        "62a7b38e21a44d9c9eded8f525499439": {
          "model_module": "@jupyter-widgets/controls",
          "model_name": "HBoxModel",
          "model_module_version": "1.5.0",
          "state": {
            "_dom_classes": [],
            "_model_module": "@jupyter-widgets/controls",
            "_model_module_version": "1.5.0",
            "_model_name": "HBoxModel",
            "_view_count": null,
            "_view_module": "@jupyter-widgets/controls",
            "_view_module_version": "1.5.0",
            "_view_name": "HBoxView",
            "box_style": "",
            "children": [
              "IPY_MODEL_4f255ac39ad1431bba8c3daa0be4ff5c",
              "IPY_MODEL_8c4d4dc04acf4dba904c9c90eea31f65",
              "IPY_MODEL_225779b195a047f4846b9676a6629d6c"
            ],
            "layout": "IPY_MODEL_1d5c7100cc41497299f9e804bce277b0"
          }
        },
        "4f255ac39ad1431bba8c3daa0be4ff5c": {
          "model_module": "@jupyter-widgets/controls",
          "model_name": "HTMLModel",
          "model_module_version": "1.5.0",
          "state": {
            "_dom_classes": [],
            "_model_module": "@jupyter-widgets/controls",
            "_model_module_version": "1.5.0",
            "_model_name": "HTMLModel",
            "_view_count": null,
            "_view_module": "@jupyter-widgets/controls",
            "_view_module_version": "1.5.0",
            "_view_name": "HTMLView",
            "description": "",
            "description_tooltip": null,
            "layout": "IPY_MODEL_fdbb40b550a74a23866225bca06c7f7e",
            "placeholder": "​",
            "style": "IPY_MODEL_42c7efa82c444508b9b9a3171119ad05",
            "value": "Batches: 100%"
          }
        },
        "8c4d4dc04acf4dba904c9c90eea31f65": {
          "model_module": "@jupyter-widgets/controls",
          "model_name": "FloatProgressModel",
          "model_module_version": "1.5.0",
          "state": {
            "_dom_classes": [],
            "_model_module": "@jupyter-widgets/controls",
            "_model_module_version": "1.5.0",
            "_model_name": "FloatProgressModel",
            "_view_count": null,
            "_view_module": "@jupyter-widgets/controls",
            "_view_module_version": "1.5.0",
            "_view_name": "ProgressView",
            "bar_style": "success",
            "description": "",
            "description_tooltip": null,
            "layout": "IPY_MODEL_e8e1540fba9849c2ac16374345104911",
            "max": 513,
            "min": 0,
            "orientation": "horizontal",
            "style": "IPY_MODEL_c82de787721c44bab0deed3db3d75f0c",
            "value": 513
          }
        },
        "225779b195a047f4846b9676a6629d6c": {
          "model_module": "@jupyter-widgets/controls",
          "model_name": "HTMLModel",
          "model_module_version": "1.5.0",
          "state": {
            "_dom_classes": [],
            "_model_module": "@jupyter-widgets/controls",
            "_model_module_version": "1.5.0",
            "_model_name": "HTMLModel",
            "_view_count": null,
            "_view_module": "@jupyter-widgets/controls",
            "_view_module_version": "1.5.0",
            "_view_name": "HTMLView",
            "description": "",
            "description_tooltip": null,
            "layout": "IPY_MODEL_df418a39374946cbb217809c34b2c7d3",
            "placeholder": "​",
            "style": "IPY_MODEL_64410e5ba3a2400ea6677abdbf833aca",
            "value": " 513/513 [03:09&lt;00:00,  6.26it/s]"
          }
        },
        "1d5c7100cc41497299f9e804bce277b0": {
          "model_module": "@jupyter-widgets/base",
          "model_name": "LayoutModel",
          "model_module_version": "1.2.0",
          "state": {
            "_model_module": "@jupyter-widgets/base",
            "_model_module_version": "1.2.0",
            "_model_name": "LayoutModel",
            "_view_count": null,
            "_view_module": "@jupyter-widgets/base",
            "_view_module_version": "1.2.0",
            "_view_name": "LayoutView",
            "align_content": null,
            "align_items": null,
            "align_self": null,
            "border": null,
            "bottom": null,
            "display": null,
            "flex": null,
            "flex_flow": null,
            "grid_area": null,
            "grid_auto_columns": null,
            "grid_auto_flow": null,
            "grid_auto_rows": null,
            "grid_column": null,
            "grid_gap": null,
            "grid_row": null,
            "grid_template_areas": null,
            "grid_template_columns": null,
            "grid_template_rows": null,
            "height": null,
            "justify_content": null,
            "justify_items": null,
            "left": null,
            "margin": null,
            "max_height": null,
            "max_width": null,
            "min_height": null,
            "min_width": null,
            "object_fit": null,
            "object_position": null,
            "order": null,
            "overflow": null,
            "overflow_x": null,
            "overflow_y": null,
            "padding": null,
            "right": null,
            "top": null,
            "visibility": null,
            "width": null
          }
        },
        "fdbb40b550a74a23866225bca06c7f7e": {
          "model_module": "@jupyter-widgets/base",
          "model_name": "LayoutModel",
          "model_module_version": "1.2.0",
          "state": {
            "_model_module": "@jupyter-widgets/base",
            "_model_module_version": "1.2.0",
            "_model_name": "LayoutModel",
            "_view_count": null,
            "_view_module": "@jupyter-widgets/base",
            "_view_module_version": "1.2.0",
            "_view_name": "LayoutView",
            "align_content": null,
            "align_items": null,
            "align_self": null,
            "border": null,
            "bottom": null,
            "display": null,
            "flex": null,
            "flex_flow": null,
            "grid_area": null,
            "grid_auto_columns": null,
            "grid_auto_flow": null,
            "grid_auto_rows": null,
            "grid_column": null,
            "grid_gap": null,
            "grid_row": null,
            "grid_template_areas": null,
            "grid_template_columns": null,
            "grid_template_rows": null,
            "height": null,
            "justify_content": null,
            "justify_items": null,
            "left": null,
            "margin": null,
            "max_height": null,
            "max_width": null,
            "min_height": null,
            "min_width": null,
            "object_fit": null,
            "object_position": null,
            "order": null,
            "overflow": null,
            "overflow_x": null,
            "overflow_y": null,
            "padding": null,
            "right": null,
            "top": null,
            "visibility": null,
            "width": null
          }
        },
        "42c7efa82c444508b9b9a3171119ad05": {
          "model_module": "@jupyter-widgets/controls",
          "model_name": "DescriptionStyleModel",
          "model_module_version": "1.5.0",
          "state": {
            "_model_module": "@jupyter-widgets/controls",
            "_model_module_version": "1.5.0",
            "_model_name": "DescriptionStyleModel",
            "_view_count": null,
            "_view_module": "@jupyter-widgets/base",
            "_view_module_version": "1.2.0",
            "_view_name": "StyleView",
            "description_width": ""
          }
        },
        "e8e1540fba9849c2ac16374345104911": {
          "model_module": "@jupyter-widgets/base",
          "model_name": "LayoutModel",
          "model_module_version": "1.2.0",
          "state": {
            "_model_module": "@jupyter-widgets/base",
            "_model_module_version": "1.2.0",
            "_model_name": "LayoutModel",
            "_view_count": null,
            "_view_module": "@jupyter-widgets/base",
            "_view_module_version": "1.2.0",
            "_view_name": "LayoutView",
            "align_content": null,
            "align_items": null,
            "align_self": null,
            "border": null,
            "bottom": null,
            "display": null,
            "flex": null,
            "flex_flow": null,
            "grid_area": null,
            "grid_auto_columns": null,
            "grid_auto_flow": null,
            "grid_auto_rows": null,
            "grid_column": null,
            "grid_gap": null,
            "grid_row": null,
            "grid_template_areas": null,
            "grid_template_columns": null,
            "grid_template_rows": null,
            "height": null,
            "justify_content": null,
            "justify_items": null,
            "left": null,
            "margin": null,
            "max_height": null,
            "max_width": null,
            "min_height": null,
            "min_width": null,
            "object_fit": null,
            "object_position": null,
            "order": null,
            "overflow": null,
            "overflow_x": null,
            "overflow_y": null,
            "padding": null,
            "right": null,
            "top": null,
            "visibility": null,
            "width": null
          }
        },
        "c82de787721c44bab0deed3db3d75f0c": {
          "model_module": "@jupyter-widgets/controls",
          "model_name": "ProgressStyleModel",
          "model_module_version": "1.5.0",
          "state": {
            "_model_module": "@jupyter-widgets/controls",
            "_model_module_version": "1.5.0",
            "_model_name": "ProgressStyleModel",
            "_view_count": null,
            "_view_module": "@jupyter-widgets/base",
            "_view_module_version": "1.2.0",
            "_view_name": "StyleView",
            "bar_color": null,
            "description_width": ""
          }
        },
        "df418a39374946cbb217809c34b2c7d3": {
          "model_module": "@jupyter-widgets/base",
          "model_name": "LayoutModel",
          "model_module_version": "1.2.0",
          "state": {
            "_model_module": "@jupyter-widgets/base",
            "_model_module_version": "1.2.0",
            "_model_name": "LayoutModel",
            "_view_count": null,
            "_view_module": "@jupyter-widgets/base",
            "_view_module_version": "1.2.0",
            "_view_name": "LayoutView",
            "align_content": null,
            "align_items": null,
            "align_self": null,
            "border": null,
            "bottom": null,
            "display": null,
            "flex": null,
            "flex_flow": null,
            "grid_area": null,
            "grid_auto_columns": null,
            "grid_auto_flow": null,
            "grid_auto_rows": null,
            "grid_column": null,
            "grid_gap": null,
            "grid_row": null,
            "grid_template_areas": null,
            "grid_template_columns": null,
            "grid_template_rows": null,
            "height": null,
            "justify_content": null,
            "justify_items": null,
            "left": null,
            "margin": null,
            "max_height": null,
            "max_width": null,
            "min_height": null,
            "min_width": null,
            "object_fit": null,
            "object_position": null,
            "order": null,
            "overflow": null,
            "overflow_x": null,
            "overflow_y": null,
            "padding": null,
            "right": null,
            "top": null,
            "visibility": null,
            "width": null
          }
        },
        "64410e5ba3a2400ea6677abdbf833aca": {
          "model_module": "@jupyter-widgets/controls",
          "model_name": "DescriptionStyleModel",
          "model_module_version": "1.5.0",
          "state": {
            "_model_module": "@jupyter-widgets/controls",
            "_model_module_version": "1.5.0",
            "_model_name": "DescriptionStyleModel",
            "_view_count": null,
            "_view_module": "@jupyter-widgets/base",
            "_view_module_version": "1.2.0",
            "_view_name": "StyleView",
            "description_width": ""
          }
        }
      }
    }
  },
  "nbformat": 4,
  "nbformat_minor": 0
}